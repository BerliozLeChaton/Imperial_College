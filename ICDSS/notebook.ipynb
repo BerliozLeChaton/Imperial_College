{
 "cells": [
  {
   "cell_type": "markdown",
   "metadata": {},
   "source": [
    "# ICDSS Advanced Data Science Team Challenges 2017-2018"
   ]
  },
  {
   "cell_type": "markdown",
   "metadata": {},
   "source": [
    "### Author : David JIA"
   ]
  },
  {
   "cell_type": "markdown",
   "metadata": {},
   "source": [
    "### CID : 01418670"
   ]
  },
  {
   "cell_type": "code",
   "execution_count": 145,
   "metadata": {},
   "outputs": [],
   "source": [
    "import pandas as pd\n",
    "import numpy as np\n",
    "import matplotlib.pyplot as plt\n",
    "from sklearn.metrics import mean_squared_error\n",
    "from sklearn import decomposition\n",
    "from sklearn.discriminant_analysis import LinearDiscriminantAnalysis\n",
    "from sklearn.metrics import accuracy_score\n",
    "from sklearn.svm import LinearSVC\n",
    "from sklearn.naive_bayes import GaussianNB, MultinomialNB\n",
    "import xgboost as xgb\n",
    "from PIL import Image\n",
    "import time\n",
    "from IPython.display import HTML, display\n",
    "import tabulate\n",
    "%matplotlib inline"
   ]
  },
  {
   "cell_type": "markdown",
   "metadata": {},
   "source": [
    "## I - Data analyzing"
   ]
  },
  {
   "cell_type": "markdown",
   "metadata": {},
   "source": [
    "### 1) Understanding, normalizing, creating small dataset"
   ]
  },
  {
   "cell_type": "markdown",
   "metadata": {},
   "source": [
    "We first try to understand the datas : 60000 images in the training set and 10000 in the testing set. We need to classify them into 10 different classes."
   ]
  },
  {
   "cell_type": "code",
   "execution_count": 2,
   "metadata": {},
   "outputs": [],
   "source": [
    "from reader import get_images\n",
    "(x_train, y_train), (x_test, y_test) = get_images() \n",
    "print'X_train shape : ', x_train.shape\n",
    "print'y_train shape : ', y_train.shape\n",
    "print'X_test shape : ', x_test.shape\n",
    "print'y_test shape : ', y_test.shape"
   ]
  },
  {
   "cell_type": "markdown",
   "metadata": {},
   "source": [
    "We normalize the datas and we also create a small dataset to work with. We also check that the number of each class in the training set is equivalent, so we have a balanced small training set (6000 datas instead of 60000)."
   ]
  },
  {
   "cell_type": "code",
   "execution_count": 3,
   "metadata": {
    "scrolled": true
   },
   "outputs": [
    {
     "name": "stdout",
     "output_type": "stream",
     "text": [
      "X_train shape :  (60000, 784)\n",
      "y_train shape :  (60000,)\n",
      "X_test shape :  (10000, 784)\n",
      "y_test shape :  (10000,)\n",
      "[9 0 0 ..., 6 7 0]\n"
     ]
    },
    {
     "data": {
      "text/plain": [
       "<matplotlib.image.AxesImage at 0x7fe5f01ef8d0>"
      ]
     },
     "execution_count": 3,
     "metadata": {},
     "output_type": "execute_result"
    },
    {
     "data": {
      "image/png": "[encoded data removed]",
      "text/plain": [
       "<matplotlib.figure.Figure at 0x7fe6282d1b50>"
      ]
     },
     "metadata": {},
     "output_type": "display_data"
    }
   ],
   "source": [
    "x_train = x_train/255.0\n",
    "x_test = x_test/255.0\n",
    "x_train_small = x_train[:6000]\n",
    "y_train_small = y_train[:6000]\n",
    "x_test_small = x_test[:1000]\n",
    "y_test_small = y_test[:1000]\n",
    "\n",
    "N_train, d_train = x_train.shape\n",
    "N_test, d_test = x_test.shape\n",
    "plt.imshow(x_train[1].reshape((28,28)), cmap='gray')"
   ]
  },
  {
   "cell_type": "markdown",
   "metadata": {},
   "source": [
    "### 2) Dimension reduction"
   ]
  },
  {
   "cell_type": "markdown",
   "metadata": {},
   "source": [
    "The main issue with Image Processing is the high dimention of the datas (dimension=784). So we need to reduce it while conserving as much information as we can. Thus, we use 2 methods : PCA and LDA. \n",
    "-  PCA converts a set of observations into a set of linearly uncorrelated variables called principal components. \n",
    "- In LDA, the weights are updated by seeking directions that are efficient for discrimination"
   ]
  },
  {
   "cell_type": "code",
   "execution_count": 96,
   "metadata": {},
   "outputs": [
    {
     "name": "stdout",
     "output_type": "stream",
     "text": [
      "0.0\n"
     ]
    }
   ],
   "source": [
    "i = 1\n",
    "pca = decomposition.PCA(n_components=2)\n",
    "X_proj = pca.fit_transform(x_train[i].reshape(1,-1))\n",
    "X_recons = pca.inverse_transform(X_proj)\n",
    "#plt.imshow(X_recons.reshape((28,28)), cmap='gray')\n",
    "mse = mean_squared_error(x_train[i], np.transpose(X_recons))\n",
    "print(mse)"
   ]
  },
  {
   "cell_type": "code",
   "execution_count": 126,
   "metadata": {},
   "outputs": [
    {
     "name": "stdout",
     "output_type": "stream",
     "text": [
      "Time in 9.683751s\n"
     ]
    }
   ],
   "source": [
    "#PCA dimension reduction\n",
    "start = time.time()\n",
    "pca = decomposition.PCA(n_components=100)\n",
    "pca.fit(x_train)\n",
    "X_reduced_train = pca.transform(x_train)\n",
    "X_reduced_test = pca.transform(x_test)\n",
    "\n",
    "print'Time in %fs' % (time.time()-start)"
   ]
  },
  {
   "cell_type": "code",
   "execution_count": 127,
   "metadata": {},
   "outputs": [
    {
     "name": "stdout",
     "output_type": "stream",
     "text": [
      "Time in 10.470955s\n"
     ]
    }
   ],
   "source": [
    "#PCA dimension reduction SMALL Dataset\n",
    "start = time.time()\n",
    "pca = decomposition.PCA(n_components=100)\n",
    "pca.fit(x_train)\n",
    "x_train_pca = pca.transform(x_train_small)\n",
    "x_test_pca = pca.transform(x_test_small)\n",
    "\n",
    "print'Time in %fs' % (time.time()-start)"
   ]
  },
  {
   "cell_type": "code",
   "execution_count": null,
   "metadata": {},
   "outputs": [],
   "source": []
  },
  {
   "cell_type": "code",
   "execution_count": 122,
   "metadata": {},
   "outputs": [
    {
     "name": "stdout",
     "output_type": "stream",
     "text": [
      "Time in 21.480780s\n"
     ]
    }
   ],
   "source": [
    "#LDA dimension reduction\n",
    "start = time.time()\n",
    "lda = LinearDiscriminantAnalysis(n_components=100)\n",
    "lda.fit(x_train, y_train)\n",
    "X_train_lda = lda.transform(x_train)\n",
    "X_test_lda = lda.transform(x_test)\n",
    "\n",
    "print'Time in %fs' % (time.time()-start)"
   ]
  },
  {
   "cell_type": "code",
   "execution_count": 123,
   "metadata": {},
   "outputs": [
    {
     "name": "stdout",
     "output_type": "stream",
     "text": [
      "Time in 2.521812s\n"
     ]
    }
   ],
   "source": [
    "#LDA dimension reduction SMALL Dataset\n",
    "start = time.time()\n",
    "lda = LinearDiscriminantAnalysis(n_components=100)\n",
    "lda.fit(x_train_small, y_train_small)\n",
    "x_train_lda = lda.transform(x_train_small)\n",
    "x_test_lda = lda.transform(x_test_small)\n",
    "\n",
    "print'Time in %fs' % (time.time()-start)"
   ]
  },
  {
   "cell_type": "markdown",
   "metadata": {},
   "source": [
    "### 3) Data augmentation"
   ]
  },
  {
   "cell_type": "markdown",
   "metadata": {},
   "source": [
    "In order to create more datas to have a larger training set (very useful for deep learning), we did data augmentation by rotating and making symetric images while keeping the same label. "
   ]
  },
  {
   "cell_type": "markdown",
   "metadata": {},
   "source": [
    "#### (i) Rotation "
   ]
  },
  {
   "cell_type": "code",
   "execution_count": 4,
   "metadata": {},
   "outputs": [
    {
     "data": {
      "text/plain": [
       "<matplotlib.image.AxesImage at 0x7fe5f013bd90>"
      ]
     },
     "execution_count": 4,
     "metadata": {},
     "output_type": "execute_result"
    },
    {
     "data": {
      "image/png": "[encoded data removed]",
      "text/plain": [
       "<matplotlib.figure.Figure at 0x7fe5f002f410>"
      ]
     },
     "metadata": {},
     "output_type": "display_data"
    }
   ],
   "source": [
    "img1 = x_train[42].reshape((28,28))\n",
    "img2 = np.rot90(img1)\n",
    "img3 = np.rot90(img2)\n",
    "img4 = np.rot90(img3)\n",
    "\n",
    "plt.figure(1)\n",
    "plt.subplot(221)\n",
    "plt.imshow(img1, cmap='gray')\n",
    "plt.subplot(222)\n",
    "plt.imshow(img2, cmap='gray')\n",
    "plt.subplot(223)\n",
    "plt.imshow(img3, cmap='gray')\n",
    "plt.subplot(224)\n",
    "plt.imshow(img4, cmap='gray')"
   ]
  },
  {
   "cell_type": "markdown",
   "metadata": {},
   "source": [
    "#### (ii) Symmetric images"
   ]
  },
  {
   "cell_type": "code",
   "execution_count": 5,
   "metadata": {},
   "outputs": [
    {
     "data": {
      "text/plain": [
       "<matplotlib.image.AxesImage at 0x7fe5f009a090>"
      ]
     },
     "execution_count": 5,
     "metadata": {},
     "output_type": "execute_result"
    },
    {
     "data": {
      "image/png": "[encoded data removed]",
      "text/plain": [
       "<matplotlib.figure.Figure at 0x7fe5efe93350>"
      ]
     },
     "metadata": {},
     "output_type": "display_data"
    }
   ],
   "source": [
    "img1 = x_train[42].reshape((28,28))\n",
    "imgS1 = np.transpose(img1)\n",
    "imgS2 = np.rot90(imgS1)\n",
    "plt.imshow(imgS2, cmap='gray')"
   ]
  },
  {
   "cell_type": "code",
   "execution_count": 6,
   "metadata": {},
   "outputs": [
    {
     "data": {
      "text/plain": [
       "<matplotlib.image.AxesImage at 0x7fe5effde410>"
      ]
     },
     "execution_count": 6,
     "metadata": {},
     "output_type": "execute_result"
    },
    {
     "data": {
      "image/png": "[encoded data removed]",
      "text/plain": [
       "<matplotlib.figure.Figure at 0x7fe5f001d350>"
      ]
     },
     "metadata": {},
     "output_type": "display_data"
    }
   ],
   "source": [
    "x_trainR1 = np.zeros((N_train,28,28))\n",
    "x_trainR2 = np.zeros((N_train,28,28))\n",
    "x_trainR3 = np.zeros((N_train,28,28))\n",
    "x_trainR4 = np.zeros((N_train,28,28))\n",
    "\n",
    "x_trainS1 = np.zeros((N_train,28,28))\n",
    "x_trainS2 = np.zeros((N_train,28,28))\n",
    "x_trainS3 = np.zeros((N_train,28,28))\n",
    "x_trainS4 = np.zeros((N_train,28,28))\n",
    "\n",
    "for i in range(N_train):\n",
    "    img1 = x_train[i].reshape((28,28))\n",
    "    img2 = np.rot90(img1)\n",
    "    img3 = np.rot90(img2)\n",
    "    img4 = np.rot90(img3)\n",
    "    x_trainR1[i] = img1\n",
    "    x_trainR2[i] = img2\n",
    "    x_trainR3[i] = img3\n",
    "    x_trainR4[i] = img4\n",
    "    x_trainS1[i] = np.transpose(img1)\n",
    "    x_trainS2[i] = np.transpose(img2)\n",
    "    x_trainS3[i] = np.transpose(img3)\n",
    "    x_trainS4[i] = np.transpose(img4)\n",
    "    \n",
    "plt.imshow(x_trainS2[42],cmap='gray')"
   ]
  },
  {
   "cell_type": "code",
   "execution_count": 7,
   "metadata": {},
   "outputs": [],
   "source": [
    "y_trainR1 = y_train\n",
    "y_trainR2 = y_train\n",
    "y_trainR3 = y_train\n",
    "y_trainR4 = y_train\n",
    "\n",
    "y_trainS1 = y_train\n",
    "y_trainS2 = y_train\n",
    "y_trainS3 = y_train\n",
    "y_trainS4 = y_train"
   ]
  },
  {
   "cell_type": "markdown",
   "metadata": {},
   "source": [
    "#### (iii) Noisy images"
   ]
  },
  {
   "cell_type": "markdown",
   "metadata": {},
   "source": [
    "We could have created more images by adding white noise with a low variance, so we can still recognize the image."
   ]
  },
  {
   "cell_type": "code",
   "execution_count": 114,
   "metadata": {},
   "outputs": [],
   "source": [
    "# We concatenate the augmented dataset.\n",
    "X_train_da = np.concatenate((x_trainR1,x_trainR2,x_trainR3,x_trainR4,x_trainS1,x_trainS2,x_trainS3,x_trainS4), axis=0)\n",
    "Y_train_da = np.concatenate((y_trainR1,y_trainR2,y_trainR3,y_trainR4,y_trainS1,y_trainS2,y_trainS3,y_trainS4), axis=0)"
   ]
  },
  {
   "cell_type": "markdown",
   "metadata": {},
   "source": [
    "## II - Sklearn classifiers"
   ]
  },
  {
   "cell_type": "code",
   "execution_count": 116,
   "metadata": {},
   "outputs": [],
   "source": [
    "def classifier(clf, x_train, y_train, x_test, y_test):\n",
    "    start = time.time()\n",
    "    clf.fit(x_train, y_train)\n",
    "    y_pred_train = clf.predict(x_train)\n",
    "    y_pred_test = clf.predict(x_test)\n",
    "    print'Training score : ', accuracy_score(y_train, y_pred_train)\n",
    "    print'Testing score : ', accuracy_score(y_test, y_pred_test)\n",
    "    print'Time in %fs'% (time.time()-start)\n",
    "    \n",
    "    return y_pred_train, y_pred_test"
   ]
  },
  {
   "cell_type": "markdown",
   "metadata": {},
   "source": [
    "### 1) LDA Classifier"
   ]
  },
  {
   "cell_type": "code",
   "execution_count": 129,
   "metadata": {},
   "outputs": [
    {
     "name": "stdout",
     "output_type": "stream",
     "text": [
      "Training score :  0.832583333333\n",
      "Testing score :  0.8151\n",
      "Time in 15.698370s\n"
     ]
    }
   ],
   "source": [
    "#Without dimension reduction\n",
    "y_pred_train, y_pred_test = classifier(LinearDiscriminantAnalysis(), x_train, y_train, x_test, y_test)"
   ]
  },
  {
   "cell_type": "code",
   "execution_count": 128,
   "metadata": {},
   "outputs": [
    {
     "name": "stdout",
     "output_type": "stream",
     "text": [
      "Training score :  0.8087\n",
      "Testing score :  0.7993\n",
      "Time in 1.598523s\n"
     ]
    }
   ],
   "source": [
    "#With PCA reduction\n",
    "y_pred_train, y_pred_test = classifier(LinearDiscriminantAnalysis(), X_reduced_train, y_train, X_reduced_test, y_test)"
   ]
  },
  {
   "cell_type": "code",
   "execution_count": 125,
   "metadata": {},
   "outputs": [
    {
     "name": "stdout",
     "output_type": "stream",
     "text": [
      "Training score :  0.832583333333\n",
      "Testing score :  0.8151\n",
      "Time in 0.126806s\n"
     ]
    }
   ],
   "source": [
    "#With LDA reduction\n",
    "y_pred_train2, y_pred_test2 = classifier(LinearDiscriminantAnalysis(), X_train_lda, y_train, X_test_lda, y_test)"
   ]
  },
  {
   "cell_type": "markdown",
   "metadata": {},
   "source": [
    "### 2) SVM Classifier"
   ]
  },
  {
   "cell_type": "markdown",
   "metadata": {},
   "source": []
  },
  {
   "cell_type": "code",
   "execution_count": 134,
   "metadata": {},
   "outputs": [
    {
     "name": "stdout",
     "output_type": "stream",
     "text": [
      "Training score :  0.959833333333\n",
      "Testing score :  0.812\n",
      "Time in 10.224273s\n"
     ]
    }
   ],
   "source": [
    "#Without dimension reduction\n",
    "y_pred_train, y_pred_test = classifier(LinearSVC(), x_train_small, y_train_small, x_test_small, y_test_small)"
   ]
  },
  {
   "cell_type": "code",
   "execution_count": 135,
   "metadata": {},
   "outputs": [
    {
     "name": "stdout",
     "output_type": "stream",
     "text": [
      "Training score :  0.8665\n",
      "Testing score :  0.833\n",
      "Time in 4.444924s\n"
     ]
    }
   ],
   "source": [
    "#With PCA reduction\n",
    "y_pred_train, y_pred_test = classifier(LinearSVC(), x_train_pca, y_train_small, x_test_pca, y_test_small)"
   ]
  },
  {
   "cell_type": "code",
   "execution_count": 136,
   "metadata": {},
   "outputs": [
    {
     "name": "stdout",
     "output_type": "stream",
     "text": [
      "Training score :  0.8895\n",
      "Testing score :  0.811\n",
      "Time in 0.794078s\n"
     ]
    }
   ],
   "source": [
    "#With LDA reduction\n",
    "y_pred_train2, y_pred_test2 = classifier(LinearSVC(), x_train_lda, y_train_small, x_test_lda, y_test_small)"
   ]
  },
  {
   "cell_type": "markdown",
   "metadata": {},
   "source": [
    "### 3) Bayesian Classifier"
   ]
  },
  {
   "cell_type": "code",
   "execution_count": 141,
   "metadata": {},
   "outputs": [
    {
     "name": "stdout",
     "output_type": "stream",
     "text": [
      "Training score :  0.783333333333\n",
      "Testing score :  0.77\n",
      "Time in 0.061117s\n"
     ]
    }
   ],
   "source": [
    "gnb = GaussianNB()\n",
    "#With PCA reduction\n",
    "y_pred_train, y_pred_test = classifier(gnb, x_train_pca, y_train_small, x_test_pca, y_test_small)"
   ]
  },
  {
   "cell_type": "code",
   "execution_count": 142,
   "metadata": {},
   "outputs": [
    {
     "name": "stdout",
     "output_type": "stream",
     "text": [
      "Training score :  0.881166666667\n",
      "Testing score :  0.8\n",
      "Time in 0.014783s\n"
     ]
    }
   ],
   "source": [
    "#With LDA reduction\n",
    "y_pred_train, y_pred_test = classifier(gnb, x_train_lda, y_train_small, x_test_lda, y_test_small)\n",
    "#y_pred_train2, y_pred_test2 = classifier(mnb, X_train_lda, y_train, X_test_lda, y_test)"
   ]
  },
  {
   "cell_type": "code",
   "execution_count": 143,
   "metadata": {},
   "outputs": [
    {
     "name": "stdout",
     "output_type": "stream",
     "text": [
      "Training score :  0.5445\n",
      "Testing score :  0.551\n",
      "Time in 1.004667s\n"
     ]
    }
   ],
   "source": [
    "#Without dimension reduction\n",
    "y_pred_train, y_pred_test = classifier(gnb, x_train_small, y_train_small, x_test_small, y_test_small)"
   ]
  },
  {
   "cell_type": "markdown",
   "metadata": {},
   "source": [
    "### 4) XGBoost"
   ]
  },
  {
   "cell_type": "markdown",
   "metadata": {},
   "source": [
    "XGBoost is a very popular algorithm using Boosting Trees. Even though it's not optimal with high dimension datas (it can take a long time), the results should be good."
   ]
  },
  {
   "cell_type": "code",
   "execution_count": 138,
   "metadata": {},
   "outputs": [
    {
     "name": "stdout",
     "output_type": "stream",
     "text": [
      "Training score :  1.0\n",
      "Testing score :  0.827\n",
      "Time in 67.982848s\n"
     ]
    }
   ],
   "source": [
    "#With PCA dimension reduction\n",
    "start = time.time()\n",
    "gbm = xgb.XGBClassifier(max_depth=50, n_estimators=100, learning_rate=0.05).fit(x_train_pca, y_train_small)\n",
    "y_pred_train = gbm.predict(x_train_pca)\n",
    "y_pred_test = gbm.predict(x_test_pca)\n",
    "print'Training score : ', accuracy_score(y_train_small, y_pred_train)\n",
    "print'Testing score : ', accuracy_score(y_test_small, y_pred_test)\n",
    "print'Time in %fs'% (time.time()-start)"
   ]
  },
  {
   "cell_type": "code",
   "execution_count": 139,
   "metadata": {},
   "outputs": [
    {
     "name": "stdout",
     "output_type": "stream",
     "text": [
      "Training score :  0.9995\n",
      "Testing score :  0.798\n",
      "Time in 5.634974s\n"
     ]
    }
   ],
   "source": [
    "#With LDA dimension reduction\n",
    "start = time.time()\n",
    "gbm = xgb.XGBClassifier(max_depth=50, n_estimators=100, learning_rate=0.05).fit(x_train_lda, y_train_small)\n",
    "y_pred_train = gbm.predict(x_train_lda)\n",
    "y_pred_test = gbm.predict(x_test_lda)\n",
    "print'Training score : ', accuracy_score(y_train_small, y_pred_train)\n",
    "print'Testing score : ', accuracy_score(y_test_small, y_pred_test)\n",
    "print'Time in %fs'% (time.time()-start)"
   ]
  },
  {
   "cell_type": "code",
   "execution_count": 140,
   "metadata": {},
   "outputs": [
    {
     "name": "stdout",
     "output_type": "stream",
     "text": [
      "Training score :  1.0\n",
      "Testing score :  0.85\n",
      "Time in 188.089623s\n"
     ]
    }
   ],
   "source": [
    "# Without dimension reduction\n",
    "start = time.time()\n",
    "gbm = xgb.XGBClassifier(max_depth=50, n_estimators=100, learning_rate=0.05).fit(x_train_small, y_train_small)\n",
    "y_pred_train = gbm.predict(x_train_small)\n",
    "y_pred_test = gbm.predict(x_test_small)\n",
    "print'Training score : ', accuracy_score(y_train_small, y_pred_train)\n",
    "print'Testing score : ', accuracy_score(y_test_small, y_pred_test)\n",
    "print'Time in %fs'% (time.time()-start)"
   ]
  },
  {
   "cell_type": "code",
   "execution_count": 153,
   "metadata": {},
   "outputs": [
    {
     "data": {
      "text/html": [
       "<table>\n",
       "<tbody>\n",
       "<tr><td>           </td><td>PCA Reduction</td><td>LDA Reduction</td><td>Without Reduction</td></tr>\n",
       "<tr><td>Train score</td><td>1.0          </td><td>1.0          </td><td>1.0              </td></tr>\n",
       "<tr><td>Test score </td><td>0.821        </td><td>0.798        </td><td>0.85             </td></tr>\n",
       "<tr><td>Time (in s)</td><td>77           </td><td>6.2          </td><td>182              </td></tr>\n",
       "</tbody>\n",
       "</table>"
      ],
      "text/plain": [
       "<IPython.core.display.HTML object>"
      ]
     },
     "metadata": {},
     "output_type": "display_data"
    }
   ],
   "source": [
    "# Display table for SMALL DATASET\n",
    "table = [[\"\",\"PCA Reduction\",\"LDA Reduction\",\"Without Reduction\"],\n",
    "        [\"Train score\",1.0, 1.0, 1.0],\n",
    "         [\"Test score\",0.821, 0.798, 0.85],\n",
    "         [\"Time (in s)\",77,6.2, 182]]\n",
    "display(HTML(tabulate.tabulate(table, tablefmt='html')))"
   ]
  },
  {
   "cell_type": "markdown",
   "metadata": {},
   "source": [
    "The results were quite good, but the model is not well adapted to the problem because trees are very good for structured datas. which isn't the case of Image Classification."
   ]
  },
  {
   "cell_type": "markdown",
   "metadata": {},
   "source": [
    "The next step would be to do ensemble learning and to combine all those different classifiers with a system of votes, to improve the result. However, as there are many datas (60000 trainings), we believe that the best way to have good results is to use deep learning."
   ]
  },
  {
   "cell_type": "markdown",
   "metadata": {},
   "source": [
    "## III - Neural Networks"
   ]
  },
  {
   "cell_type": "markdown",
   "metadata": {},
   "source": [
    "Neural Networks have always shown good performances in Machine Learning problems. However, Image Processing is a high dimension problems, and the time to update weighs can be very long. CNN is anther kind of neural network which has showed excellent results for Image processing and NLP. By adding a pooling layer, we can decrease the dimension of the datas. So we are going to implement one."
   ]
  },
  {
   "cell_type": "code",
   "execution_count": 18,
   "metadata": {},
   "outputs": [],
   "source": [
    "import keras\n",
    "from keras.models import Sequential\n",
    "from keras.layers import Dense\n",
    "from keras.layers import Dropout\n",
    "from keras.layers import Flatten\n",
    "from keras.constraints import maxnorm\n",
    "from keras.optimizers import SGD\n",
    "from keras.layers.convolutional import Conv2D, Conv1D\n",
    "from keras.layers.convolutional import MaxPooling2D, MaxPooling1D\n",
    "from keras.utils import np_utils\n",
    "from keras.preprocessing.image import ImageDataGenerator\n",
    "from keras import backend as K\n",
    "K.set_image_dim_ordering('th')"
   ]
  },
  {
   "cell_type": "code",
   "execution_count": 10,
   "metadata": {},
   "outputs": [
    {
     "name": "stdout",
     "output_type": "stream",
     "text": [
      "(60000, 10)\n"
     ]
    }
   ],
   "source": [
    "# one hot encode outputs\n",
    "# Total datas\n",
    "y_train_hot = np_utils.to_categorical(y_train)\n",
    "y_test_hot = np_utils.to_categorical(y_test)\n",
    "\n",
    "# Small datas\n",
    "y_train_dummies = np_utils.to_categorical(y_train_small)\n",
    "y_test_dummies = np_utils.to_categorical(y_test_small)\n",
    "\n",
    "# Augmented datas\n",
    "y_train_da = np_utils.to_categorical(Y_train_da)\n",
    "\n",
    "num_classes = y_test_hot.shape[1]\n",
    "print(y_train_hot.shape)"
   ]
  },
  {
   "cell_type": "code",
   "execution_count": 11,
   "metadata": {},
   "outputs": [
    {
     "name": "stdout",
     "output_type": "stream",
     "text": [
      "(60000, 1, 28, 28)\n",
      "(10000, 1, 28, 28)\n"
     ]
    }
   ],
   "source": [
    "X_train_temp = x_train\n",
    "X_test_temp = x_test\n",
    "X_train_temp2 = x_train_small\n",
    "X_test_temp2 = x_test_small\n",
    "X_train = X_train_temp.ravel().reshape(60000,1,28,28)\n",
    "X_test = X_test_temp.ravel().reshape(10000,1,28,28)\n",
    "X_train_small = X_train_temp2.ravel().reshape(6000,1,28,28)\n",
    "X_test_small = X_test_temp2.ravel().reshape(1000,1,28,28)\n",
    "\n",
    "x_train_da = X_train_da.ravel().reshape(480000,1,28,28)\n",
    "\n",
    "print(X_train.shape)\n",
    "print(X_test.shape)"
   ]
  },
  {
   "cell_type": "code",
   "execution_count": null,
   "metadata": {},
   "outputs": [],
   "source": []
  },
  {
   "cell_type": "code",
   "execution_count": 19,
   "metadata": {
    "scrolled": true
   },
   "outputs": [
    {
     "name": "stdout",
     "output_type": "stream",
     "text": [
      "_________________________________________________________________\n",
      "Layer (type)                 Output Shape              Param #   \n",
      "=================================================================\n",
      "conv2d_1 (Conv2D)            (None, 28, 28, 28)        280       \n",
      "_________________________________________________________________\n",
      "dropout_1 (Dropout)          (None, 28, 28, 28)        0         \n",
      "_________________________________________________________________\n",
      "conv2d_2 (Conv2D)            (None, 28, 28, 28)        7084      \n",
      "_________________________________________________________________\n",
      "max_pooling2d_1 (MaxPooling2 (None, 28, 14, 14)        0         \n",
      "_________________________________________________________________\n",
      "flatten_1 (Flatten)          (None, 5488)              0         \n",
      "_________________________________________________________________\n",
      "dense_1 (Dense)              (None, 512)               2810368   \n",
      "_________________________________________________________________\n",
      "dropout_2 (Dropout)          (None, 512)               0         \n",
      "_________________________________________________________________\n",
      "dense_2 (Dense)              (None, 10)                5130      \n",
      "=================================================================\n",
      "Total params: 2,822,862\n",
      "Trainable params: 2,822,862\n",
      "Non-trainable params: 0\n",
      "_________________________________________________________________\n",
      "None\n"
     ]
    },
    {
     "name": "stderr",
     "output_type": "stream",
     "text": [
      "/usr/local/lib/python2.7/dist-packages/ipykernel_launcher.py:6: UserWarning: Update your `MaxPooling2D` call to the Keras 2 API: `MaxPooling2D(data_format=\"channels_first\", pool_size=(2, 2))`\n",
      "  \n"
     ]
    }
   ],
   "source": [
    "# Create the model\n",
    "model = Sequential()\n",
    "model.add(Conv2D(28, (3, 3), input_shape=(1,28, 28), padding='same', activation='relu', kernel_constraint=maxnorm(3)))\n",
    "model.add(Dropout(0.2))\n",
    "model.add(Conv2D(28, (3, 3), activation='relu', padding='same', kernel_constraint=maxnorm(3)))\n",
    "model.add(MaxPooling2D(pool_size=(2, 2),dim_ordering=\"th\"))\n",
    "model.add(Flatten())\n",
    "model.add(Dense(512, activation='relu', kernel_constraint=maxnorm(3)))\n",
    "model.add(Dropout(0.5))\n",
    "model.add(Dense(num_classes, activation='softmax'))\n",
    "# Compile model\n",
    "epochs = 15\n",
    "lrate = 0.01\n",
    "decay = lrate/epochs\n",
    "sgd = SGD(lr=lrate, momentum=0.9, decay=decay, nesterov=False)\n",
    "model.compile(loss='categorical_crossentropy', optimizer=sgd, metrics=['accuracy'])\n",
    "print(model.summary())"
   ]
  },
  {
   "cell_type": "code",
   "execution_count": 21,
   "metadata": {
    "scrolled": true
   },
   "outputs": [
    {
     "name": "stdout",
     "output_type": "stream",
     "text": [
      "Train on 6000 samples, validate on 1000 samples\n",
      "Epoch 1/15\n",
      "6000/6000 [==============================] - 80s 13ms/step - loss: 0.3466 - acc: 0.8723 - val_loss: 0.3274 - val_acc: 0.8860\n",
      "Epoch 2/15\n",
      "6000/6000 [==============================] - 81s 14ms/step - loss: 0.3264 - acc: 0.8800 - val_loss: 0.3379 - val_acc: 0.8760\n",
      "Epoch 3/15\n",
      "6000/6000 [==============================] - 66s 11ms/step - loss: 0.3003 - acc: 0.8902 - val_loss: 0.3218 - val_acc: 0.8790\n",
      "Epoch 4/15\n",
      "6000/6000 [==============================] - 62s 10ms/step - loss: 0.2912 - acc: 0.8943 - val_loss: 0.3175 - val_acc: 0.8920\n",
      "Epoch 5/15\n",
      "6000/6000 [==============================] - 64s 11ms/step - loss: 0.2678 - acc: 0.9033 - val_loss: 0.3324 - val_acc: 0.8840\n",
      "Epoch 6/15\n",
      "6000/6000 [==============================] - 65s 11ms/step - loss: 0.2590 - acc: 0.9058 - val_loss: 0.3173 - val_acc: 0.8970\n",
      "Epoch 7/15\n",
      "6000/6000 [==============================] - 74s 12ms/step - loss: 0.2382 - acc: 0.9133 - val_loss: 0.3162 - val_acc: 0.8880\n",
      "Epoch 8/15\n",
      "6000/6000 [==============================] - 75s 13ms/step - loss: 0.2289 - acc: 0.9178 - val_loss: 0.3270 - val_acc: 0.8830\n",
      "Epoch 9/15\n",
      "6000/6000 [==============================] - 77s 13ms/step - loss: 0.2176 - acc: 0.9233 - val_loss: 0.3526 - val_acc: 0.8750\n",
      "Epoch 10/15\n",
      "6000/6000 [==============================] - 75s 13ms/step - loss: 0.2089 - acc: 0.9238 - val_loss: 0.3252 - val_acc: 0.8910\n",
      "Epoch 11/15\n",
      "6000/6000 [==============================] - 73s 12ms/step - loss: 0.1887 - acc: 0.9315 - val_loss: 0.3256 - val_acc: 0.8880\n",
      "Epoch 12/15\n",
      "6000/6000 [==============================] - 74s 12ms/step - loss: 0.1819 - acc: 0.9305 - val_loss: 0.3321 - val_acc: 0.8900\n",
      "Epoch 13/15\n",
      "6000/6000 [==============================] - 85s 14ms/step - loss: 0.1712 - acc: 0.9398 - val_loss: 0.3391 - val_acc: 0.8840\n",
      "Epoch 14/15\n",
      "6000/6000 [==============================] - 77s 13ms/step - loss: 0.1638 - acc: 0.9412 - val_loss: 0.3510 - val_acc: 0.8830\n",
      "Epoch 15/15\n",
      "6000/6000 [==============================] - 83s 14ms/step - loss: 0.1590 - acc: 0.9410 - val_loss: 0.3338 - val_acc: 0.8890\n",
      "Time in 1111.950721s\n"
     ]
    }
   ],
   "source": [
    "start = time.time()\n",
    "# Fit the model\n",
    "model.fit(X_train_small, y_train_dummies, validation_data=(X_test_small, y_test_dummies), epochs=epochs, batch_size=25)\n",
    "print'Time in %fs' % (time.time()-start)"
   ]
  },
  {
   "cell_type": "code",
   "execution_count": 24,
   "metadata": {},
   "outputs": [
    {
     "name": "stdout",
     "output_type": "stream",
     "text": [
      "Train accuracy: 96.30%\n",
      "Test accuracy: 88.90%\n",
      "Time in 35.179054s\n"
     ]
    }
   ],
   "source": [
    "start = time.time()\n",
    "\n",
    "# Evaluation of the model\n",
    "scores1 = model.evaluate(X_train_small, y_train_dummies, verbose=0)\n",
    "scores2 = model.evaluate(X_test_small, y_test_dummies, verbose=0)\n",
    "print(\"Train accuracy: %.2f%%\" % (scores1[1]*100))\n",
    "print(\"Test accuracy: %.2f%%\" % (scores2[1]*100))\n",
    "\n",
    "print'Time in %fs' % (time.time()-start)"
   ]
  },
  {
   "cell_type": "code",
   "execution_count": 155,
   "metadata": {},
   "outputs": [
    {
     "data": {
      "text/html": [
       "<table>\n",
       "<tbody>\n",
       "<tr><td>Number of Epochs</td><td style=\"text-align: right;\">5   </td><td style=\"text-align: right;\">25   </td><td style=\"text-align: right;\">100   </td></tr>\n",
       "<tr><td>Train score     </td><td style=\"text-align: right;\">0.87</td><td style=\"text-align: right;\"> 0.98</td><td style=\"text-align: right;\">  1   </td></tr>\n",
       "<tr><td>Test score      </td><td style=\"text-align: right;\">0.83</td><td style=\"text-align: right;\"> 0.88</td><td style=\"text-align: right;\">  0.88</td></tr>\n",
       "<tr><td>Time (in min)   </td><td style=\"text-align: right;\">6   </td><td style=\"text-align: right;\">22   </td><td style=\"text-align: right;\">115   </td></tr>\n",
       "</tbody>\n",
       "</table>"
      ],
      "text/plain": [
       "<IPython.core.display.HTML object>"
      ]
     },
     "metadata": {},
     "output_type": "display_data"
    }
   ],
   "source": [
    "# Display table for SMALL DATASET\n",
    "table = [[\"Number of Epochs\", 5, 25, 100],\n",
    "        [\"Train score\",0.87, 0.98, 1.0],\n",
    "         [\"Test score\",0.83, 0.88, 0.88],\n",
    "         [\"Time (in min)\",6, 22, 115]]\n",
    "display(HTML(tabulate.tabulate(table, tablefmt='html')))"
   ]
  },
  {
   "cell_type": "code",
   "execution_count": 156,
   "metadata": {},
   "outputs": [
    {
     "data": {
      "text/html": [
       "<table>\n",
       "<tbody>\n",
       "<tr><td>Number of Epochs</td><td style=\"text-align: right;\">5   </td><td style=\"text-align: right;\">25   </td></tr>\n",
       "<tr><td>Train score     </td><td style=\"text-align: right;\">0.95</td><td style=\"text-align: right;\"> 0.97</td></tr>\n",
       "<tr><td>Test score      </td><td style=\"text-align: right;\">0.89</td><td style=\"text-align: right;\"> 0.92</td></tr>\n",
       "<tr><td>Time (in min)   </td><td style=\"text-align: right;\">6   </td><td style=\"text-align: right;\">22   </td></tr>\n",
       "</tbody>\n",
       "</table>"
      ],
      "text/plain": [
       "<IPython.core.display.HTML object>"
      ]
     },
     "metadata": {},
     "output_type": "display_data"
    }
   ],
   "source": [
    "# Display table for FULL DATASET\n",
    "table = [[\"Number of Epochs\", 5, 25],\n",
    "        [\"Train score\",0.95, 0.97],\n",
    "         [\"Test score\",0.89, 0.92],\n",
    "         [\"Time (in min)\",6, 22]]\n",
    "display(HTML(tabulate.tabulate(table, tablefmt='html')))"
   ]
  },
  {
   "cell_type": "markdown",
   "metadata": {},
   "source": [
    "We also calculated the scores for different parameters : \n",
    "- loss function : same results with Adam loss and sgd loss.\n",
    "- number of conv layers : we loose 2% in testing score when we have 1 conv layer instead of 2.\n",
    "- size of selected regions : same results for (2,2), (3,3) or (4,4)"
   ]
  },
  {
   "cell_type": "markdown",
   "metadata": {},
   "source": [
    "Moreover, we also used this CNN with the Augmented Datas from I-2), but the results are the same. Need to find a more robust model."
   ]
  },
  {
   "cell_type": "markdown",
   "metadata": {},
   "source": [
    "### Conclusion and possible improvements"
   ]
  },
  {
   "cell_type": "markdown",
   "metadata": {},
   "source": [
    "The best result was obtained with a CNN (between 89 and 92% with 25 epochs). After reading several articles, I think the best way to improve the result would be to implement state of the art neural networks with Keras. I would have tried : \n",
    "- different type of resnet.\n",
    "- more recent CNN such as RCNN.\n",
    "<br> <br>\n",
    "Then, after predicting the labels, I would have combining all the different neural networks with a voting system to obtain a new score."
   ]
  },
  {
   "cell_type": "code",
   "execution_count": null,
   "metadata": {},
   "outputs": [],
   "source": []
  }
 ],
 "metadata": {
  "kernelspec": {
   "display_name": "Python 3",
   "language": "python",
   "name": "python3"
  },
  "language_info": {
   "codemirror_mode": {
    "name": "ipython",
    "version": 2
   },
   "file_extension": ".py",
   "mimetype": "text/x-python",
   "name": "python",
   "nbconvert_exporter": "python",
   "pygments_lexer": "ipython2",
   "version": "2.7.12"
  }
 },
 "nbformat": 4,
 "nbformat_minor": 2
}

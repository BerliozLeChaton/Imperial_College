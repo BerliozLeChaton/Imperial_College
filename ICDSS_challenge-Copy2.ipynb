{
 "cells": [
  {
   "cell_type": "markdown",
   "metadata": {},
   "source": [
    "## Steps"
   ]
  },
  {
   "cell_type": "markdown",
   "metadata": {},
   "source": [
    "- Dimension reduction\n",
    "- Linear models from sklearn\n",
    "- XGBoost\n",
    "- Neural Network\n",
    "- Ensemble learning (votes with different models)"
   ]
  },
  {
   "cell_type": "code",
   "execution_count": 2,
   "metadata": {},
   "outputs": [
    {
     "name": "stderr",
     "output_type": "stream",
     "text": [
      "/usr/local/lib/python2.7/dist-packages/sklearn/cross_validation.py:41: DeprecationWarning: This module was deprecated in version 0.18 in favor of the model_selection module into which all the refactored classes and functions are moved. Also note that the interface of the new CV iterators are different from that of this module. This module will be removed in 0.20.\n",
      "  \"This module will be removed in 0.20.\", DeprecationWarning)\n"
     ]
    }
   ],
   "source": [
    "import pandas as pd\n",
    "import numpy as np\n",
    "import matplotlib.pyplot as plt\n",
    "from sklearn import decomposition\n",
    "from sklearn.discriminant_analysis import LinearDiscriminantAnalysis\n",
    "from sklearn.metrics import accuracy_score\n",
    "from sklearn.svm import LinearSVC\n",
    "from sklearn.naive_bayes import GaussianNB, MultinomialNB\n",
    "import xgboost as xgb\n",
    "from PIL import Image\n",
    "import time\n",
    "%matplotlib inline"
   ]
  },
  {
   "cell_type": "code",
   "execution_count": 3,
   "metadata": {},
   "outputs": [],
   "source": [
    "from reader import get_images\n",
    "(x_train, y_train), (x_test, y_test) = get_images() "
   ]
  },
  {
   "cell_type": "code",
   "execution_count": 4,
   "metadata": {
    "scrolled": true
   },
   "outputs": [
    {
     "name": "stdout",
     "output_type": "stream",
     "text": [
      "X_train shape :  (60000, 784)\n",
      "y_train shape :  (60000,)\n",
      "X_test shape :  (10000, 784)\n",
      "y_test shape :  (10000,)\n",
      "[9 0 0 ..., 6 7 0]\n"
     ]
    },
    {
     "data": {
      "text/plain": [
       "<matplotlib.image.AxesImage at 0x7fd4eb7bc4d0>"
      ]
     },
     "execution_count": 4,
     "metadata": {},
     "output_type": "execute_result"
    },
    {
     "data": {
      "image/png": "[encoded data removed]",
      "text/plain": [
       "<matplotlib.figure.Figure at 0x7fd5241f5ad0>"
      ]
     },
     "metadata": {},
     "output_type": "display_data"
    }
   ],
   "source": [
    "print'X_train shape : ', x_train.shape\n",
    "print'y_train shape : ', y_train.shape\n",
    "print'X_test shape : ', x_test.shape\n",
    "print'y_test shape : ', y_test.shape\n",
    "print(y_train[:6000])\n",
    "x_train = x_train/255.0\n",
    "x_test = x_test/255.0\n",
    "x_train_small = x_train[:6000]\n",
    "y_train_small = y_train[:6000]\n",
    "x_test_small = x_test[:1000]\n",
    "y_test_small = y_test[:1000]\n",
    "\n",
    "N_train, d_train = x_train.shape\n",
    "N_test, d_test = x_test.shape\n",
    "plt.imshow(x_train[1].reshape((28,28)), cmap='gray')"
   ]
  },
  {
   "cell_type": "markdown",
   "metadata": {},
   "source": [
    "## Data augmentation"
   ]
  },
  {
   "cell_type": "markdown",
   "metadata": {},
   "source": [
    "### 1) Rotation "
   ]
  },
  {
   "cell_type": "code",
   "execution_count": 8,
   "metadata": {},
   "outputs": [
    {
     "data": {
      "text/plain": [
       "<matplotlib.image.AxesImage at 0x7fd4ac574210>"
      ]
     },
     "execution_count": 8,
     "metadata": {},
     "output_type": "execute_result"
    },
    {
     "data": {
      "image/png": "[encoded data removed]",
      "text/plain": [
       "<matplotlib.figure.Figure at 0x7fd4c8fa2b90>"
      ]
     },
     "metadata": {},
     "output_type": "display_data"
    }
   ],
   "source": [
    "img1 = x_train[42].reshape((28,28))\n",
    "img2 = np.rot90(img1)\n",
    "img3 = np.rot90(img2)\n",
    "img4 = np.rot90(img3)\n",
    "\n",
    "plt.figure(1)\n",
    "plt.subplot(221)\n",
    "plt.imshow(img1, cmap='gray')\n",
    "plt.subplot(222)\n",
    "plt.imshow(img2, cmap='gray')\n",
    "plt.subplot(223)\n",
    "plt.imshow(img3, cmap='gray')\n",
    "plt.subplot(224)\n",
    "plt.imshow(img4, cmap='gray')"
   ]
  },
  {
   "cell_type": "markdown",
   "metadata": {},
   "source": [
    "### 2) Symmetric images"
   ]
  },
  {
   "cell_type": "code",
   "execution_count": 9,
   "metadata": {},
   "outputs": [
    {
     "data": {
      "text/plain": [
       "<matplotlib.image.AxesImage at 0x7fd4ac50d350>"
      ]
     },
     "execution_count": 9,
     "metadata": {},
     "output_type": "execute_result"
    },
    {
     "data": {
      "image/png": "[encoded data removed]",
      "text/plain": [
       "<matplotlib.figure.Figure at 0x7fd4c8fa2250>"
      ]
     },
     "metadata": {},
     "output_type": "display_data"
    }
   ],
   "source": [
    "img1 = x_train[42].reshape((28,28))\n",
    "imgS1 = np.transpose(img1)\n",
    "imgS2 = np.rot90(imgS1)\n",
    "plt.imshow(imgS2, cmap='gray')"
   ]
  },
  {
   "cell_type": "code",
   "execution_count": 10,
   "metadata": {},
   "outputs": [
    {
     "data": {
      "text/plain": [
       "<matplotlib.image.AxesImage at 0x7fd3f8d14710>"
      ]
     },
     "execution_count": 10,
     "metadata": {},
     "output_type": "execute_result"
    },
    {
     "data": {
      "image/png": "[encoded data removed]",
      "text/plain": [
       "<matplotlib.figure.Figure at 0x7fd4ec013990>"
      ]
     },
     "metadata": {},
     "output_type": "display_data"
    }
   ],
   "source": [
    "x_trainR1 = np.zeros((N_train,28,28))\n",
    "x_trainR2 = np.zeros((N_train,28,28))\n",
    "x_trainR3 = np.zeros((N_train,28,28))\n",
    "x_trainR4 = np.zeros((N_train,28,28))\n",
    "\n",
    "x_trainS1 = np.zeros((N_train,28,28))\n",
    "x_trainS2 = np.zeros((N_train,28,28))\n",
    "x_trainS3 = np.zeros((N_train,28,28))\n",
    "x_trainS4 = np.zeros((N_train,28,28))\n",
    "\n",
    "for i in range(N_train):\n",
    "    img1 = x_train[i].reshape((28,28))\n",
    "    img2 = np.rot90(img1)\n",
    "    img3 = np.rot90(img2)\n",
    "    img4 = np.rot90(img3)\n",
    "    x_trainR1[i] = img1\n",
    "    x_trainR2[i] = img2\n",
    "    x_trainR3[i] = img3\n",
    "    x_trainR4[i] = img4\n",
    "    x_trainS1[i] = np.transpose(img1)\n",
    "    x_trainS2[i] = np.transpose(img2)\n",
    "    x_trainS3[i] = np.transpose(img3)\n",
    "    x_trainS4[i] = np.transpose(img4)\n",
    "    \n",
    "plt.imshow(x_trainS2[42],cmap='gray')"
   ]
  },
  {
   "cell_type": "code",
   "execution_count": 11,
   "metadata": {},
   "outputs": [],
   "source": [
    "y_trainR1 = y_train\n",
    "y_trainR2 = y_train\n",
    "y_trainR3 = y_train\n",
    "y_trainR4 = y_train\n",
    "\n",
    "y_trainS1 = y_train\n",
    "y_trainS2 = y_train\n",
    "y_trainS3 = y_train\n",
    "y_trainS4 = y_train"
   ]
  },
  {
   "cell_type": "markdown",
   "metadata": {},
   "source": [
    "### 3) Noisy images"
   ]
  },
  {
   "cell_type": "markdown",
   "metadata": {},
   "source": [
    "### Data augmentation conclusion"
   ]
  },
  {
   "cell_type": "code",
   "execution_count": 13,
   "metadata": {},
   "outputs": [],
   "source": [
    "X_train_da = np.concatenate((x_trainR1,x_trainR2,x_trainR3,x_trainR4,x_trainS1,x_trainS2,x_trainS3,x_trainS4), axis=0)\n",
    "Y_train_da = np.concatenate((y_trainR1,y_trainR2,y_trainR3,y_trainR4,y_trainS1,y_trainS2,y_trainS3,y_trainS4), axis=0)"
   ]
  },
  {
   "cell_type": "markdown",
   "metadata": {},
   "source": [
    "## Dimension reduction"
   ]
  },
  {
   "cell_type": "code",
   "execution_count": null,
   "metadata": {},
   "outputs": [],
   "source": [
    "#PCA dimension reduction\n",
    "start = time.time()\n",
    "pca = decomposition.PCA(n_components=200)\n",
    "pca.fit(x_train)\n",
    "X_reduced_train = pca.transform(x_train)\n",
    "X_reduced_test = pca.transform(x_test)\n",
    "\n",
    "print'Time in %fs' % (time.time()-start)"
   ]
  },
  {
   "cell_type": "code",
   "execution_count": null,
   "metadata": {},
   "outputs": [],
   "source": [
    "#PCA dimension reduction SMALL Dataset\n",
    "start = time.time()\n",
    "pca = decomposition.PCA(n_components=100)\n",
    "pca.fit(x_train)\n",
    "x_train_pca = pca.transform(x_train_small)\n",
    "x_test_pca = pca.transform(x_test_small)\n",
    "\n",
    "print'Time in %fs' % (time.time()-start)"
   ]
  },
  {
   "cell_type": "code",
   "execution_count": null,
   "metadata": {},
   "outputs": [],
   "source": [
    "#LDA dimension reduction\n",
    "start = time.time()\n",
    "lda = LinearDiscriminantAnalysis(n_components=100)\n",
    "lda.fit(x_train, y_train)\n",
    "X_train_lda = lda.transform(x_train)\n",
    "X_test_lda = lda.transform(x_test)\n",
    "\n",
    "print'Time in %fs' % (time.time()-start)"
   ]
  },
  {
   "cell_type": "code",
   "execution_count": null,
   "metadata": {},
   "outputs": [],
   "source": [
    "#LDA dimension reduction SMALL Dataset\n",
    "start = time.time()\n",
    "lda = LinearDiscriminantAnalysis(n_components=200)\n",
    "lda.fit(x_train_small, y_train_small)\n",
    "x_train_lda = lda.transform(x_train_small)\n",
    "x_test_lda = lda.transform(x_test_small)\n",
    "\n",
    "print'Time in %fs' % (time.time()-start)"
   ]
  },
  {
   "cell_type": "code",
   "execution_count": null,
   "metadata": {},
   "outputs": [],
   "source": [
    "def classifier(clf, x_train, y_train, x_test, y_test):\n",
    "    start = time.time()\n",
    "    clf.fit(x_train, y_train)\n",
    "    y_pred_train = clf.predict(x_train)\n",
    "    y_pred_test = clf.predict(x_test)\n",
    "    print'Training score : ', accuracy_score(y_train, y_pred_train)\n",
    "    print'Testing score : ', accuracy_score(y_test, y_pred_test)\n",
    "    print'Time in %fs'% (time.time()-start)\n",
    "    \n",
    "    return y_pred_train, y_pred_test"
   ]
  },
  {
   "cell_type": "markdown",
   "metadata": {},
   "source": [
    "### LDA Classifier"
   ]
  },
  {
   "cell_type": "code",
   "execution_count": null,
   "metadata": {},
   "outputs": [],
   "source": [
    "#Without dimension reduction\n",
    "y_pred_train, y_pred_test = classifier(LinearDiscriminantAnalysis(), x_train, y_train, x_test)"
   ]
  },
  {
   "cell_type": "code",
   "execution_count": null,
   "metadata": {},
   "outputs": [],
   "source": [
    "#With PCA reduction\n",
    "y_pred_train, y_pred_test = classifier(LinearDiscriminantAnalysis(), X_reduced_train, y_train, X_reduced_test)"
   ]
  },
  {
   "cell_type": "code",
   "execution_count": null,
   "metadata": {},
   "outputs": [],
   "source": [
    "#With LDA reduction\n",
    "y_pred_train2, y_pred_test2 = classifier(LinearDiscriminantAnalysis(), X_train_lda, y_train, X_test_lda)"
   ]
  },
  {
   "cell_type": "markdown",
   "metadata": {},
   "source": [
    "### SVM Classifier"
   ]
  },
  {
   "cell_type": "markdown",
   "metadata": {},
   "source": [
    "Aim : To test the difference with PCA reduction and LDA reduction."
   ]
  },
  {
   "cell_type": "code",
   "execution_count": null,
   "metadata": {},
   "outputs": [],
   "source": [
    "#Without dimension reduction\n",
    "y_pred_train, y_pred_test = classifier(LinearSVC(), train_data, train_label, test_data, test_label)"
   ]
  },
  {
   "cell_type": "code",
   "execution_count": null,
   "metadata": {},
   "outputs": [],
   "source": [
    "#With PCA reduction\n",
    "y_pred_train, y_pred_test = classifier(LinearSVC(), X_reduced_train, y_train, X_reduced_test, y_test)"
   ]
  },
  {
   "cell_type": "code",
   "execution_count": null,
   "metadata": {},
   "outputs": [],
   "source": [
    "#With LDA reduction\n",
    "y_pred_train2, y_pred_test2 = classifier(LinearSVC(), x_train_lda, y_train_small, x_test_lda, y_test_small)"
   ]
  },
  {
   "cell_type": "markdown",
   "metadata": {},
   "source": [
    "### Bayesian Classifier"
   ]
  },
  {
   "cell_type": "code",
   "execution_count": null,
   "metadata": {},
   "outputs": [],
   "source": [
    "gnb = GaussianNB()\n",
    "mnb = MultinomialNB()\n",
    "#Without dimension reduction\n",
    "y_pred_train, y_pred_test = classifier(gnb, x_train, y_train, x_test, y_test)\n",
    "y_pred_train, y_pred_test = classifier(mnb, x_train, y_train, x_test, y_test)"
   ]
  },
  {
   "cell_type": "code",
   "execution_count": null,
   "metadata": {},
   "outputs": [],
   "source": [
    "#With LDA reduction\n",
    "y_pred_train2, y_pred_test2 = classifier(gnb, X_train_lda, y_train, X_test_lda, y_test)\n",
    "#y_pred_train2, y_pred_test2 = classifier(mnb, X_train_lda, y_train, X_test_lda, y_test)"
   ]
  },
  {
   "cell_type": "markdown",
   "metadata": {},
   "source": [
    "### XGBoost"
   ]
  },
  {
   "cell_type": "markdown",
   "metadata": {},
   "source": [
    "First, we try XGBoost on the small dataset"
   ]
  },
  {
   "cell_type": "code",
   "execution_count": null,
   "metadata": {},
   "outputs": [],
   "source": [
    "#With PCA dimension reduction\n",
    "start = time.time()\n",
    "gbm = xgb.XGBClassifier(max_depth=50, n_estimators=100, learning_rate=0.05).fit(x_train_pca, y_train_small)\n",
    "y_pred_train = gbm.predict(x_train_pca)\n",
    "y_pred_test = gbm.predict(x_test_pca)\n",
    "print'Training score : ', accuracy_score(y_train_small, y_pred_train)\n",
    "print'Testing score : ', accuracy_score(y_test_small, y_pred_test)\n",
    "print'Time in %fs'% (time.time()-start)"
   ]
  },
  {
   "cell_type": "code",
   "execution_count": null,
   "metadata": {},
   "outputs": [],
   "source": [
    "#With LDA dimension reduction\n",
    "start = time.time()\n",
    "gbm = xgb.XGBClassifier(max_depth=50, n_estimators=100, learning_rate=0.05).fit(x_train_lda, y_train_small)\n",
    "y_pred_train = gbm.predict(x_train_lda)\n",
    "y_pred_test = gbm.predict(x_test_lda)\n",
    "print'Training score : ', accuracy_score(y_train_small, y_pred_train)\n",
    "print'Testing score : ', accuracy_score(y_test_small, y_pred_test)\n",
    "print'Time in %fs'% (time.time()-start)"
   ]
  },
  {
   "cell_type": "code",
   "execution_count": null,
   "metadata": {},
   "outputs": [],
   "source": [
    "start = time.time()\n",
    "gbm = xgb.XGBClassifier(max_depth=50, n_estimators=100, learning_rate=0.05).fit(x_train_small, y_train_small)\n",
    "y_pred_train = gbm.predict(x_train_small)\n",
    "y_pred_test = gbm.predict(x_test_small)\n",
    "print'Training score : ', accuracy_score(y_train_small, y_pred_train)\n",
    "print'Testing score : ', accuracy_score(y_test_small, y_pred_test)\n",
    "print'Time in %fs'% (time.time()-start)"
   ]
  },
  {
   "cell_type": "markdown",
   "metadata": {},
   "source": [
    "SMALL DATA SET WITH PCA REDUCTION (100 components) : \n",
    "<br>\n",
    "Training score :  1.0\n",
    "<br>\n",
    "Testing score :  0.821\n",
    "<br>\n",
    "Time in 76.923215s\n",
    "<br> (IDEM WITH 200 COMPONENTS, but Time in 143.537988s)"
   ]
  },
  {
   "cell_type": "markdown",
   "metadata": {},
   "source": [
    "SMALL DATA SET WITH LDA REDUCTION, 100 components: \n",
    "<br> Training score :  0.9995\n",
    "<br> Testing score :  0.798\n",
    "<br> Time in 6.181175s <br> (IDEM WITH 200 COMPONENTS)"
   ]
  },
  {
   "cell_type": "markdown",
   "metadata": {},
   "source": [
    "SMALL DATA SET WITHOUT REDUCTION : \n",
    "<br> Training score :  1.0\n",
    "<br> Testing score :  0.85\n",
    "<br> Time in 182.005786s"
   ]
  },
  {
   "cell_type": "markdown",
   "metadata": {},
   "source": [
    "The results were quite good, but the model is not well adapted to the problem because trees are very good for structured datas. For Image Processing, it's not. We need to use neural networks."
   ]
  },
  {
   "cell_type": "markdown",
   "metadata": {},
   "source": [
    "### Neural Networks"
   ]
  },
  {
   "cell_type": "markdown",
   "metadata": {},
   "source": [
    "Problem with regular Neural Networks = with high dimension. CNN has showed excellent results for Image processing and NLP, so we are going to implement one."
   ]
  },
  {
   "cell_type": "code",
   "execution_count": 14,
   "metadata": {},
   "outputs": [],
   "source": [
    "import keras\n",
    "from keras.datasets import cifar10\n",
    "from keras.models import Sequential\n",
    "from keras.layers import Dense\n",
    "from keras.layers import Dropout\n",
    "from keras.layers import Flatten\n",
    "from keras.constraints import maxnorm\n",
    "from keras.optimizers import SGD\n",
    "from keras.layers.convolutional import Conv2D, Conv1D\n",
    "from keras.layers.convolutional import MaxPooling2D, MaxPooling1D\n",
    "from keras.utils import np_utils\n",
    "from keras.preprocessing.image import ImageDataGenerator\n",
    "from keras import backend as K\n",
    "K.set_image_dim_ordering('th')"
   ]
  },
  {
   "cell_type": "code",
   "execution_count": 15,
   "metadata": {},
   "outputs": [
    {
     "name": "stdout",
     "output_type": "stream",
     "text": [
      "(60000, 10)\n"
     ]
    }
   ],
   "source": [
    "# one hot encode outputs\n",
    "# Total datas\n",
    "y_train_hot = np_utils.to_categorical(y_train)\n",
    "y_test_hot = np_utils.to_categorical(y_test)\n",
    "\n",
    "# Small datas\n",
    "y_train_dummies = np_utils.to_categorical(y_train_small)\n",
    "y_test_dummies = np_utils.to_categorical(y_test_small)\n",
    "\n",
    "# Augmented datas\n",
    "y_train_da = np_utils.to_categorical(Y_train_da)\n",
    "\n",
    "num_classes = y_test_hot.shape[1]\n",
    "print(y_train_hot.shape)"
   ]
  },
  {
   "cell_type": "code",
   "execution_count": 16,
   "metadata": {},
   "outputs": [
    {
     "name": "stdout",
     "output_type": "stream",
     "text": [
      "(60000, 1, 28, 28)\n",
      "(10000, 1, 28, 28)\n"
     ]
    }
   ],
   "source": [
    "X_train_temp = x_train\n",
    "X_test_temp = x_test\n",
    "X_train_temp2 = x_train_small\n",
    "X_test_temp2 = x_test_small\n",
    "X_train = X_train_temp.ravel().reshape(60000,1,28,28)\n",
    "X_test = X_test_temp.ravel().reshape(10000,1,28,28)\n",
    "X_train_small = X_train_temp2.ravel().reshape(6000,1,28,28)\n",
    "X_test_small = X_test_temp2.ravel().reshape(1000,1,28,28)\n",
    "\n",
    "x_train_da = X_train_da.ravel().reshape(480000,1,28,28)\n",
    "\n",
    "print(X_train.shape)\n",
    "print(X_test.shape)"
   ]
  },
  {
   "cell_type": "code",
   "execution_count": null,
   "metadata": {},
   "outputs": [],
   "source": []
  },
  {
   "cell_type": "code",
   "execution_count": 22,
   "metadata": {
    "scrolled": true
   },
   "outputs": [
    {
     "name": "stdout",
     "output_type": "stream",
     "text": [
      "_________________________________________________________________\n",
      "Layer (type)                 Output Shape              Param #   \n",
      "=================================================================\n",
      "conv2d_5 (Conv2D)            (None, 32, 28, 28)        320       \n",
      "_________________________________________________________________\n",
      "dropout_5 (Dropout)          (None, 32, 28, 28)        0         \n",
      "_________________________________________________________________\n",
      "conv2d_6 (Conv2D)            (None, 32, 28, 28)        9248      \n",
      "_________________________________________________________________\n",
      "max_pooling2d_3 (MaxPooling2 (None, 32, 14, 14)        0         \n",
      "_________________________________________________________________\n",
      "flatten_3 (Flatten)          (None, 6272)              0         \n",
      "_________________________________________________________________\n",
      "dense_5 (Dense)              (None, 512)               3211776   \n",
      "_________________________________________________________________\n",
      "dropout_6 (Dropout)          (None, 512)               0         \n",
      "_________________________________________________________________\n",
      "dense_6 (Dense)              (None, 10)                5130      \n",
      "=================================================================\n",
      "Total params: 3,226,474\n",
      "Trainable params: 3,226,474\n",
      "Non-trainable params: 0\n",
      "_________________________________________________________________\n",
      "None\n"
     ]
    },
    {
     "name": "stderr",
     "output_type": "stream",
     "text": [
      "/usr/local/lib/python2.7/dist-packages/ipykernel_launcher.py:6: UserWarning: Update your `MaxPooling2D` call to the Keras 2 API: `MaxPooling2D(data_format=\"channels_first\", pool_size=(2, 2))`\n",
      "  \n"
     ]
    }
   ],
   "source": [
    "# Create the model\n",
    "model = Sequential()\n",
    "model.add(Conv2D(32, (3, 3), input_shape=(1,28, 28), padding='same', activation='relu', kernel_constraint=maxnorm(3)))\n",
    "model.add(Dropout(0.2))\n",
    "model.add(Conv2D(32, (3, 3), activation='relu', padding='same', kernel_constraint=maxnorm(3)))\n",
    "model.add(MaxPooling2D(pool_size=(2, 2),dim_ordering=\"th\"))\n",
    "model.add(Flatten())\n",
    "model.add(Dense(512, activation='softmax', kernel_constraint=maxnorm(3)))\n",
    "model.add(Dropout(0.5))\n",
    "model.add(Dense(num_classes, activation='softmax'))\n",
    "# Compile model\n",
    "epochs = 1\n",
    "lrate = 0.01\n",
    "decay = lrate/epochs\n",
    "sgd = SGD(lr=lrate, momentum=0.9, decay=decay, nesterov=False)\n",
    "model.compile(loss='categorical_crossentropy', optimizer='adam', metrics=['accuracy'])\n",
    "print(model.summary())"
   ]
  },
  {
   "cell_type": "code",
   "execution_count": 23,
   "metadata": {},
   "outputs": [
    {
     "name": "stdout",
     "output_type": "stream",
     "text": [
      "Train on 480000 samples, validate on 10000 samples\n",
      "Epoch 1/1\n",
      "480000/480000 [==============================] - 4913s 10ms/step - loss: 1.6462 - acc: 0.3775 - val_loss: 0.9257 - val_acc: 0.8094\n",
      "Time in 4913.757896s\n"
     ]
    }
   ],
   "source": [
    "start = time.time()\n",
    "# Fit the model\n",
    "model.fit(x_train_da, y_train_da, validation_data=(X_test, y_test_hot), epochs=epochs, batch_size=100)\n",
    "print'Time in %fs' % (time.time()-start)"
   ]
  },
  {
   "cell_type": "code",
   "execution_count": null,
   "metadata": {},
   "outputs": [],
   "source": [
    "start = time.time()\n",
    "\n",
    "# Evaluation of the model\n",
    "scores1 = model.evaluate(X_train_da, y_train_da, verbose=0)\n",
    "scores2 = model.evaluate(X_test, y_test_hot, verbose=0)\n",
    "print(\"Train accuracy: %.2f%%\" % (scores1[1]*100))\n",
    "print(\"Test accuracy: %.2f%%\" % (scores2[1]*100))\n",
    "\n",
    "print'Time in %fs' % (time.time()-start)"
   ]
  },
  {
   "cell_type": "markdown",
   "metadata": {},
   "source": [
    "SMALL DATASET (6000 trainings + 1000 tests), 5 EPOCHS :\n",
    "<br>\n",
    "Time in 361.566031s\n",
    "<br>\n",
    "Train accuracy: 87.48%\n",
    "<br>\n",
    "Test accuracy: 83.30%\n"
   ]
  },
  {
   "cell_type": "markdown",
   "metadata": {},
   "source": [
    "SMALL DATASET (6000 trainings + 1000 tests), 25 EPOCHS :\n",
    "<br>\n",
    "Time in 1332.897883s (~22min)\n",
    "<br>\n",
    "Train accuracy: 98.13%\n",
    "<br>\n",
    "Test accuracy: 88.00% (88.60% with Adam loss)"
   ]
  },
  {
   "cell_type": "markdown",
   "metadata": {},
   "source": [
    "SMALL DATASET (6000 trainings + 1000 tests), 100 EPOCHS :\n",
    "<br>\n",
    "Time in 6931.943935s (~1h55)\n",
    "<br>\n",
    "Train accuracy: 100.00%\n",
    "<br>\n",
    "Test accuracy: 88.20%\n"
   ]
  },
  {
   "cell_type": "markdown",
   "metadata": {},
   "source": [
    "FULL DATASET (60000 trainings + 10000 tests), 5 EPOCHS :\n",
    "<br>\n",
    "Time in 3640.773880s (~1h)\n",
    "<br>\n",
    "Train accuracy: 94.84% (88% when done again)\n",
    "<br>\n",
    "Test accuracy: 91.97% (89% when done again) <br> (Adam loss)\n",
    "<br>\n",
    "(87% et 86% with only 1 conv layer)\n",
    "<br>\n",
    "(89% and 87% for (2,2) instead of (3,3), idem pour (4,4) )"
   ]
  },
  {
   "cell_type": "markdown",
   "metadata": {},
   "source": [
    "FULL DATASET, 128 neurones, 5 EPOCHS :\n",
    "<br>\n",
    "Time in 2625.482189s (~44min)\n",
    "<br>\n",
    "Train accuracy: 92.94%\n",
    "<br>\n",
    "Test accuracy: 90.63% \n",
    "<br> (IDEM SIGMOID) "
   ]
  },
  {
   "cell_type": "markdown",
   "metadata": {},
   "source": [
    "FULL DATASET (60000 trainings + 10000 tests), 25 EPOCHS :\n",
    "<br>\n",
    "Time in 16503.621415s (~4h15)\n",
    "<br>\n",
    "Train accuracy: 96.84%\n",
    "<br>\n",
    "Test accuracy: 92.08% (Adam loss)"
   ]
  },
  {
   "cell_type": "markdown",
   "metadata": {},
   "source": []
  }
 ],
 "metadata": {
  "kernelspec": {
   "display_name": "Python 3",
   "language": "python",
   "name": "python3"
  },
  "language_info": {
   "codemirror_mode": {
    "name": "ipython",
    "version": 2
   },
   "file_extension": ".py",
   "mimetype": "text/x-python",
   "name": "python",
   "nbconvert_exporter": "python",
   "pygments_lexer": "ipython2",
   "version": "2.7.12"
  }
 },
 "nbformat": 4,
 "nbformat_minor": 2
}
